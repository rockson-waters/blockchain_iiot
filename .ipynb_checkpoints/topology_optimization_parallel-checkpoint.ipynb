{
 "cells": [
  {
   "cell_type": "code",
   "execution_count": 2,
   "metadata": {},
   "outputs": [],
   "source": [
    "from math import ceil\n",
    "import numpy as np\n",
    "import matplotlib.pyplot as plt\n",
    "from mealpy.swarm_based import PSO\n",
    "from optimization.mst import Graph\n",
    "from optimization.node_generator import *\n",
    "from optimization.objectives.objective_functions import amend_position, fitness_multi, generate_position\n",
    "from optimization.objectives.constants import *\n",
    "from optimization.objectives.utilities import initialize_sim_data, reinitialize_sim_data, save_all_solutions_to_file, reset_model_history, plot_peer_solution, save_runtime_to_file\n",
    "# from multiprocessing import Process\n",
    "# from numba import jit\n",
    "from time import time\n"
   ]
  },
  {
   "cell_type": "code",
   "execution_count": 3,
   "metadata": {},
   "outputs": [],
   "source": [
    "\n",
    "MST = True\n",
    "\n",
    "current_node_id = 0\n",
    "global number_of_nodes \n",
    "number_of_nodes = 100\n",
    "num_consensus_nodes = ceil(0.15 * number_of_nodes)\n",
    "num_of_regions = 5\n",
    "solutions = {}\n",
    "total_runtime = []\n",
    "total_runtime_dict = {}\n",
    "total_runtime_per_node_dict = {}\n",
    "\n",
    "sim_data = {}\n",
    "all_nodes\n",
    "nf = NodeFactory(num_of_regions, number_of_nodes, num_consensus_nodes)\n",
    "\n",
    "sim_data = initialize_sim_data(sim_data, number_of_nodes, all_nodes)\n"
   ]
  },
  {
   "cell_type": "code",
   "execution_count": 57,
   "metadata": {},
   "outputs": [
    {
     "data": {
      "text/plain": [
       "2926040"
      ]
     },
     "execution_count": 57,
     "metadata": {},
     "output_type": "execute_result"
    }
   ],
   "source": [
    "nf.number_of_messages()"
   ]
  },
  {
   "cell_type": "code",
   "execution_count": 4,
   "metadata": {},
   "outputs": [
    {
     "name": "stdout",
     "output_type": "stream",
     "text": [
      "0.0017039775848388672\n"
     ]
    }
   ],
   "source": [
    "\n",
    "g = Graph(number_of_nodes)\n",
    "graph = g.read_latencies()\n",
    "g.graph = graph\n",
    "start_time = time()\n",
    "g.prims()\n",
    "duration = time() - start_time\n",
    "print(duration)\n",
    "g.get_adjacency_matrix()\n",
    "g.save_solution(number_of_nodes)\n",
    "\n"
   ]
  },
  {
   "cell_type": "code",
   "execution_count": 5,
   "metadata": {},
   "outputs": [],
   "source": [
    "# Define Problem\n",
    "problem_multi = {\n",
    "    \"fit_func\": fitness_multi,\n",
    "    \"lb\": sim_data[\"lb\"],\n",
    "    \"ub\": sim_data[\"lb\"],\n",
    "    \"minmax\": \"max\",\n",
    "    \"obj_weights\": [1, 1, 1],\n",
    "    \"generate_position\": generate_position,\n",
    "    \"amend_position\": amend_position,\n",
    "    \"log_to\": None,\n",
    "}\n",
    "# Define termination criteria\n",
    "term_dict = {\n",
    "\"mode\": \"ES\",\n",
    "\"quantity\": 30  # after 30 epochs, if the global best doesn't improve then we stop the program\n",
    "}\n"
   ]
  },
  {
   "cell_type": "code",
   "execution_count": 9,
   "metadata": {},
   "outputs": [
    {
     "data": {
      "text/plain": [
       "{'number_of_nodes': 100,\n",
       " 'dim': 2,\n",
       " 'lb': [0, 0],\n",
       " 'ub': [99, 99],\n",
       " 'c_max': 39.870408960270694,\n",
       " 'current_node_id': 99}"
      ]
     },
     "execution_count": 9,
     "metadata": {},
     "output_type": "execute_result"
    }
   ],
   "source": [
    "sim_data"
   ]
  },
  {
   "cell_type": "code",
   "execution_count": 6,
   "metadata": {},
   "outputs": [
    {
     "name": "stdout",
     "output_type": "stream",
     "text": [
      "{100: 69.94009418287169}\n"
     ]
    }
   ],
   "source": [
    "\n",
    "for n in [number_of_nodes]:\n",
    "    number_of_nodes = n\n",
    "    problem_multi[\"lb\"] = sim_data[\"lb\"] # update dimensions in problem definnition\n",
    "    problem_multi[\"ub\"] = sim_data[\"ub\"] # update dimensions in problem definnition\n",
    "    graph_generation_time = 0\n",
    "    \n",
    "    reinitialize_sim_data(sim_data, number_of_nodes, current_node_id)\n",
    "    pso_model = PSO.BasePSO(problem=problem_multi, epoch=EPOCH, pop_size=POP_SIZE, termination=term_dict)\n",
    "\n",
    "    for m in range(0, number_of_nodes, 1):\n",
    "        current_node_id = m\n",
    "        sim_data[\"current_node_id\"] = current_node_id\n",
    "        best_position, best_fitness_value = pso_model.solve()\n",
    "        \n",
    "        solutions.update({current_node_id: best_position.tolist()})\n",
    "        model = PSO.BasePSO(problem=problem_multi, epoch=EPOCH, pop_size=POP_SIZE, termination=term_dict)\n",
    "        # model = PSO.C_PSO(problem=problem_multi, epoch=EPOCH, pop_size=POP_SIZE, termination=term_dict)\n",
    "        # model = PSO.CL_PSO(problem=problem_multi, epoch=EPOCH, pop_size=POP_SIZE, termination=term_dict)\n",
    "        # model = PSO.HPSO_TVAC(problem=problem_multi, epoch=EPOCH, pop_size=POP_SIZE, termination=term_dict)\n",
    "        # model = PSO.PPSO(problem=problem_multi, epoch=EPOCH, pop_size=POP_SIZE, termination=term_dict)\n",
    "        b = np.array(pso_model.history.list_epoch_time)\n",
    "        b = np.sum(b)\n",
    "        total_runtime_per_node_dict[f\"PSO_default_total_{number_of_nodes}_current_{current_node_id}\"] = b\n",
    "        graph_generation_time += b\n",
    "        reset_model_history(pso_model)\n",
    "        \n",
    "    # save runtime to log\n",
    "    save_runtime_to_file(total_runtime_per_node_dict, \"one\", number_of_nodes)\n",
    "    total_runtime_per_node_dict = {}\n",
    "    total_runtime_dict[number_of_nodes] = graph_generation_time\n",
    "    total_runtime.append(graph_generation_time)\n",
    "    \n",
    "print(total_runtime_dict)\n",
    "save_runtime_to_file(total_runtime_dict, \"all\", number_of_nodes)\n",
    "save_all_solutions_to_file(solutions, number_of_nodes)\n",
    "save_location_names(nf.locs)\n",
    "\n"
   ]
  }
 ],
 "metadata": {
  "kernelspec": {
   "display_name": "Python 3 (ipykernel)",
   "language": "python",
   "name": "python3"
  },
  "language_info": {
   "codemirror_mode": {
    "name": "ipython",
    "version": 3
   },
   "file_extension": ".py",
   "mimetype": "text/x-python",
   "name": "python",
   "nbconvert_exporter": "python",
   "pygments_lexer": "ipython3",
   "version": "3.12.3"
  },
  "vscode": {
   "interpreter": {
    "hash": "0c963ec49a5293ca1fddc96ba02f35e248bfb788964251920f95d7b9c12c0838"
   }
  }
 },
 "nbformat": 4,
 "nbformat_minor": 2
}
